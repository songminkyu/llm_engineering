{
 "cells": [
  {
   "cell_type": "markdown",
   "id": "d15d8294-3328-4e07-ad16-8a03e9bbfdb9",
   "metadata": {},
   "source": [
    "# EXERCISE SOLUTION\n",
    "\n",
    "Upgrade the day 1 project to summarize a webpage to use an Open Source model running locally via Ollama rather than OpenAI\n",
    "\n",
    "You'll be able to use this technique for all subsequent projects if you'd prefer not to use paid APIs.\n",
    "\n",
    "**Benefits:**\n",
    "1. No API charges - open-source\n",
    "2. Data doesn't leave your box\n",
    "\n",
    "**Disadvantages:**\n",
    "1. Significantly less power than Frontier Model\n",
    "\n",
    "## Recap on installation of Ollama\n",
    "\n",
    "Simply visit [ollama.com](https://ollama.com) and install!\n",
    "\n",
    "Once complete, the ollama server should already be running locally.  \n",
    "If you visit:  \n",
    "[http://localhost:11434/](http://localhost:11434/)\n",
    "\n",
    "You should see the message `Ollama is running`.  \n",
    "\n",
    "If not, bring up a new Terminal (Mac) or Powershell (Windows) and enter `ollama serve`  \n",
    "Then try [http://localhost:11434/](http://localhost:11434/) again."
   ]
  },
  {
   "cell_type": "code",
   "execution_count": 1,
   "id": "4e2a9393-7767-488e-a8bf-27c12dca35bd",
   "metadata": {
    "ExecuteTime": {
     "end_time": "2025-08-23T11:55:11.764626Z",
     "start_time": "2025-08-23T11:55:11.311885Z"
    }
   },
   "outputs": [],
   "source": [
    "# imports\n",
    "\n",
    "import requests\n",
    "from bs4 import BeautifulSoup\n",
    "from IPython.display import Markdown, display\n",
    "import ollama"
   ]
  },
  {
   "cell_type": "code",
   "execution_count": null,
   "id": "29ddd15d-a3c5-4f4e-a678-873f56162724",
   "metadata": {
    "ExecuteTime": {
     "end_time": "2025-08-23T11:55:13.000961Z",
     "start_time": "2025-08-23T11:55:12.998655Z"
    }
   },
   "outputs": [],
   "source": [
    "# Constants\n",
    "\n",
    "MODEL = \"gpt-oss:20b\"\n",
    "# MODEL = \"gpt-oss:120b\""
   ]
  },
  {
   "cell_type": "code",
   "execution_count": 4,
   "id": "c5e793b2-6775-426a-a139-4848291d0463",
   "metadata": {
    "ExecuteTime": {
     "end_time": "2025-08-23T11:55:15.558082Z",
     "start_time": "2025-08-23T11:55:15.555083Z"
    }
   },
   "outputs": [],
   "source": [
    "# A class to represent a Webpage\n",
    "\n",
    "class Website:\n",
    "    \"\"\"\n",
    "    A utility class to represent a Website that we have scraped\n",
    "    \"\"\"\n",
    "    url: str\n",
    "    title: str\n",
    "    text: str\n",
    "\n",
    "    def __init__(self, url):\n",
    "        \"\"\"\n",
    "        Create this Website object from the given url using the BeautifulSoup library\n",
    "        \"\"\"\n",
    "        self.url = url\n",
    "        response = requests.get(url)\n",
    "        soup = BeautifulSoup(response.content, 'html.parser')\n",
    "        self.title = soup.title.string if soup.title else \"No title found\"\n",
    "        for irrelevant in soup.body([\"script\", \"style\", \"img\", \"input\"]):\n",
    "            irrelevant.decompose()\n",
    "        self.text = soup.body.get_text(separator=\"\\n\", strip=True)"
   ]
  },
  {
   "cell_type": "code",
   "execution_count": 6,
   "id": "2ef960cf-6dc2-4cda-afb3-b38be12f4c97",
   "metadata": {
    "ExecuteTime": {
     "end_time": "2025-08-23T11:55:55.124647Z",
     "start_time": "2025-08-23T11:55:54.702370Z"
    }
   },
   "outputs": [
    {
     "name": "stdout",
     "output_type": "stream",
     "text": [
      "Home - Edward Donner\n",
      "Home\n",
      "Connect Four\n",
      "Outsmart\n",
      "An arena that pits LLMs against each other in a battle of diplomacy and deviousness\n",
      "About\n",
      "Posts\n",
      "Well, hi there.\n",
      "I’m Ed. I like writing code and experimenting with LLMs, and hopefully you’re here because you do too. I also enjoy DJing (but I’m badly out of practice), amateur electronic music production (\n",
      "very\n",
      "amateur) and losing myself in\n",
      "Hacker News\n",
      ", nodding my head sagely to things I only half understand.\n",
      "I’m the co-founder and CTO of\n",
      "Nebula.io\n",
      ". We’re applying AI to a field where it can make a massive, positive impact: helping people discover their potential and pursue their reason for being. Recruiters use our product today to source, understand, engage and manage talent. I’m previously the founder and CEO of AI startup untapt,\n",
      "acquired in 2021\n",
      ".\n",
      "We work with groundbreaking, proprietary LLMs verticalized for talent, we’ve\n",
      "patented\n",
      "our matching model, and our award-winning platform has happy customers and tons of press coverage.\n",
      "Connect\n",
      "with me for more!\n",
      "May 28, 2025\n",
      "Connecting my courses – become an LLM expert and leader\n",
      "May 18, 2025\n",
      "2025 AI Executive Briefing\n",
      "April 21, 2025\n",
      "The Complete Agentic AI Engineering Course\n",
      "January 23, 2025\n",
      "LLM Workshop – Hands-on with Agents – resources\n",
      "Navigation\n",
      "Home\n",
      "Connect Four\n",
      "Outsmart\n",
      "An arena that pits LLMs against each other in a battle of diplomacy and deviousness\n",
      "About\n",
      "Posts\n",
      "Get in touch\n",
      "ed [at] edwarddonner [dot] com\n",
      "www.edwarddonner.com\n",
      "Follow me\n",
      "LinkedIn\n",
      "Twitter\n",
      "Facebook\n",
      "Subscribe to newsletter\n",
      "Type your email…\n",
      "Subscribe\n"
     ]
    }
   ],
   "source": [
    "# Let's try one out\n",
    "\n",
    "ed = Website(\"https://edwarddonner.com\")\n",
    "print(ed.title)\n",
    "print(ed.text)"
   ]
  },
  {
   "cell_type": "markdown",
   "id": "6a478a0c-2c53-48ff-869c-4d08199931e1",
   "metadata": {},
   "source": [
    "## Types of prompts\n",
    "\n",
    "You may know this already - but if not, you will get very familiar with it!\n",
    "\n",
    "Models like GPT4o have been trained to receive instructions in a particular way.\n",
    "\n",
    "They expect to receive:\n",
    "\n",
    "**A system prompt** that tells them what task they are performing and what tone they should use\n",
    "\n",
    "**A user prompt** -- the conversation starter that they should reply to"
   ]
  },
  {
   "cell_type": "code",
   "execution_count": 7,
   "id": "abdb8417-c5dc-44bc-9bee-2e059d162699",
   "metadata": {
    "ExecuteTime": {
     "end_time": "2025-08-23T11:56:07.960175Z",
     "start_time": "2025-08-23T11:56:07.957844Z"
    }
   },
   "outputs": [],
   "source": [
    "# Define our system prompt - you can experiment with this later, changing the last sentence to 'Respond in markdown in Spanish.\"\n",
    "\n",
    "system_prompt = \"You are an assistant that analyzes the contents of a website \\\n",
    "and provides a short summary, ignoring text that might be navigation related. \\\n",
    "Respond in markdown.\""
   ]
  },
  {
   "cell_type": "code",
   "execution_count": 8,
   "id": "f0275b1b-7cfe-4f9d-abfa-7650d378da0c",
   "metadata": {
    "ExecuteTime": {
     "end_time": "2025-08-23T11:56:09.702139Z",
     "start_time": "2025-08-23T11:56:09.699139Z"
    }
   },
   "outputs": [],
   "source": [
    "# A function that writes a User Prompt that asks for summaries of websites:\n",
    "\n",
    "def user_prompt_for(website):\n",
    "    user_prompt = f\"You are looking at a website titled {website.title}\"\n",
    "    user_prompt += \"The contents of this website is as follows; \\\n",
    "please provide a short summary of this website in markdown. \\\n",
    "If it includes news or announcements, then summarize these too.\\n\\n\"\n",
    "    user_prompt += website.text\n",
    "    return user_prompt"
   ]
  },
  {
   "cell_type": "markdown",
   "id": "ea211b5f-28e1-4a86-8e52-c0b7677cadcc",
   "metadata": {},
   "source": [
    "## Messages\n",
    "\n",
    "The API from Ollama expects the same message format as OpenAI:\n",
    "\n",
    "```\n",
    "[\n",
    "    {\"role\": \"system\", \"content\": \"system message goes here\"},\n",
    "    {\"role\": \"user\", \"content\": \"user message goes here\"}\n",
    "]"
   ]
  },
  {
   "cell_type": "code",
   "execution_count": 9,
   "id": "0134dfa4-8299-48b5-b444-f2a8c3403c88",
   "metadata": {
    "ExecuteTime": {
     "end_time": "2025-08-23T11:56:14.793481Z",
     "start_time": "2025-08-23T11:56:14.791369Z"
    }
   },
   "outputs": [],
   "source": [
    "# See how this function creates exactly the format above\n",
    "\n",
    "def messages_for(website):\n",
    "    return [\n",
    "        {\"role\": \"system\", \"content\": system_prompt},\n",
    "        {\"role\": \"user\", \"content\": user_prompt_for(website)}\n",
    "    ]"
   ]
  },
  {
   "cell_type": "markdown",
   "id": "16f49d46-bf55-4c3e-928f-68fc0bf715b0",
   "metadata": {},
   "source": [
    "## Time to bring it together - now with Ollama instead of OpenAI"
   ]
  },
  {
   "cell_type": "code",
   "execution_count": 10,
   "id": "905b9919-aba7-45b5-ae65-81b3d1d78e34",
   "metadata": {
    "ExecuteTime": {
     "end_time": "2025-08-23T11:56:21.825354Z",
     "start_time": "2025-08-23T11:56:21.821919Z"
    }
   },
   "outputs": [],
   "source": [
    "# And now: call the Ollama function instead of OpenAI\n",
    "\n",
    "def summarize(url):\n",
    "    website = Website(url)\n",
    "    messages = messages_for(website)\n",
    "    response = ollama.chat(model=MODEL, messages=messages)\n",
    "    return response['message']['content']"
   ]
  },
  {
   "cell_type": "code",
   "execution_count": 11,
   "id": "05e38d41-dfa4-4b20-9c96-c46ea75d9fb5",
   "metadata": {
    "ExecuteTime": {
     "end_time": "2025-08-23T11:56:29.107139Z",
     "start_time": "2025-08-23T11:56:23.654672Z"
    }
   },
   "outputs": [
    {
     "data": {
      "text/plain": [
       "'# Edward Donner – Personal & Professional Profile\\n\\n- **Who is he?**  \\n  - Co‑founder & CTO of **Nebula.io** – an AI talent‑matching platform that leverages proprietary, verticalized LLMs.  \\n  - Former founder & CEO of AI startup **untapt** (acquired 2021).  \\n  - Passionate about coding, LLM experimentation, electronic music, and occasionally DJing.  \\n  - Active on Hacker News and enjoys keeping up with tech trends.\\n\\n- **What does he offer?**  \\n  - **LLM & AI learning courses** (e.g., “Connecting my courses – become an LLM expert and leader”, “The Complete Agentic AI Engineering Course”).  \\n  - **Hands‑on workshops** for building AI agents (“LLM Workshop – Hands‑on with Agents – resources”).  \\n  - **Executive briefings** on AI strategy (“2025 AI Executive Briefing”).  \\n  - A creative AI game called **Outsmart** – a “battle of diplomacy and deviousness” between LLMs.  \\n  - Networking and collaboration opportunities through a contact form.\\n\\n- **Recent News / Announcements**  \\n  | Date | Title |\\n  |------|-------|\\n  | May 28, 2025 | “Connecting my courses – become an LLM expert and leader” |\\n  | May 18, 2025 | “2025 AI Executive Briefing” |\\n  | April 21, 2025 | “The Complete Agentic AI Engineering Course” |\\n  | Jan 23, 2025 | “LLM Workshop – Hands‑on with Agents – resources” |\\n\\n- **How to connect**  \\n  - Email: `ed@edwarddonner.com`  \\n  - Social media: LinkedIn, Twitter, Facebook  \\n  - Newsletter sign‑up on the site.'"
      ]
     },
     "execution_count": 11,
     "metadata": {},
     "output_type": "execute_result"
    }
   ],
   "source": [
    "summarize(\"https://edwarddonner.com\")"
   ]
  },
  {
   "cell_type": "code",
   "execution_count": 12,
   "id": "3d926d59-450e-4609-92ba-2d6f244f1342",
   "metadata": {
    "ExecuteTime": {
     "end_time": "2025-08-23T11:56:32.776158Z",
     "start_time": "2025-08-23T11:56:32.772846Z"
    }
   },
   "outputs": [],
   "source": [
    "# A function to display this nicely in the Jupyter output, using markdown\n",
    "\n",
    "def display_summary(url):\n",
    "    summary = summarize(url)\n",
    "    display(Markdown(summary))"
   ]
  },
  {
   "cell_type": "code",
   "execution_count": 13,
   "id": "3018853a-445f-41ff-9560-d925d1774b2f",
   "metadata": {
    "ExecuteTime": {
     "end_time": "2025-08-23T11:56:37.748677Z",
     "start_time": "2025-08-23T11:56:34.318177Z"
    }
   },
   "outputs": [
    {
     "data": {
      "text/markdown": [
       "## Summary of **edwarddonner.com**\n",
       "\n",
       "| Section | Key Points |\n",
       "|---------|------------|\n",
       "| **Overview** | Personal blog & portfolio site run by Ed Donner, a software developer, LLM enthusiast, and AI entrepreneur. |\n",
       "| **Core Themes** | - Experimentation with large language models (LLMs) <br> - Development of AI products for talent discovery (Nebula.io) <br> - Interest in music production and DJing <br> - Frequent engagement with the Hacker News community |\n",
       "| **Projects & Tools** | - **Connect Four** – A showcase or interactive feature (likely a game). <br> - **Outsmart** – An LLM arena where models battle in diplomacy and deviousness. |\n",
       "| **About** | - Co‑founder & CTO of **Nebula.io** (AI‑powered talent management platform). <br> - Former founder & CEO of **untapt**, acquired in 2021. <br> - Holds patents on talent‑matching models and has received press coverage. |\n",
       "| **Recent Posts (Announcements)** | • **May 28, 2025** – “Connecting my courses – become an LLM expert and leader” <br> • **May 18, 2025** – “2025 AI Executive Briefing” <br> • **April 21, 2025** – “The Complete Agentic AI Engineering Course” <br> • **January 23, 2025** – “LLM Workshop – Hands‑on with Agents – resources” |\n",
       "| **Contact** | Email: `ed@edwarddonner.com` <br> Website: `www.edwarddonner.com` <br> Socials: LinkedIn, Twitter, Facebook |\n",
       "| **Miscellaneous** | Newsletter signup, navigation links to Home, Connect Four, Outsmart, About, Posts, and a “Get in touch” page. |\n",
       "\n",
       "**Takeaway:** The site functions as a personal hub for Ed Donner’s professional activities, AI research, and community engagement, with a focus on LLM development, talent‑AI products, and educational content."
      ],
      "text/plain": [
       "<IPython.core.display.Markdown object>"
      ]
     },
     "metadata": {},
     "output_type": "display_data"
    }
   ],
   "source": [
    "display_summary(\"https://edwarddonner.com\")"
   ]
  },
  {
   "cell_type": "markdown",
   "id": "b3bcf6f4-adce-45e9-97ad-d9a5d7a3a624",
   "metadata": {},
   "source": [
    "# Let's try more websites\n",
    "\n",
    "Note that this will only work on websites that can be scraped using this simplistic approach.\n",
    "\n",
    "Websites that are rendered with Javascript, like React apps, won't show up. See the community-contributions folder for a Selenium implementation that gets around this. You'll need to read up on installing Selenium (ask ChatGPT!)\n",
    "\n",
    "Also Websites protected with CloudFront (and similar) may give 403 errors - many thanks Andy J for pointing this out.\n",
    "\n",
    "But many websites will work just fine!"
   ]
  },
  {
   "cell_type": "code",
   "execution_count": 14,
   "id": "45d83403-a24c-44b5-84ac-961449b4008f",
   "metadata": {
    "ExecuteTime": {
     "end_time": "2025-08-23T11:56:58.943012Z",
     "start_time": "2025-08-23T11:56:53.254704Z"
    }
   },
   "outputs": [
    {
     "data": {
      "text/markdown": [
       "**CNN – Breaking News, Latest News & Videos**  \n",
       "A CNN page that aggregates the day’s most pressing stories, opinion pieces, and video clips, with a strong focus on current events and live coverage.  \n",
       "\n",
       "### Core News Highlights\n",
       "| Category | Key Stories |\n",
       "|----------|-------------|\n",
       "| **U.S. Politics** | • *Ghislaine Maxwell DOJ interview* – transcript and analysis of Maxwell’s statements about Epstein and her remarks on Donald Trump.  <br>• *Menendez brothers* – latest updates on the federal case, including denial of parole and legal proceedings.  <br>• *Trump’s latest warnings* on mail‑in voting and pressure on federal officials. |\n",
       "| **International** | • *Gaza City famine* – UN‑backed warning that a “man‑made famine” is underway amid the Israel‑Hamas conflict.  <br>• *Ukraine war* – analysis of Russia‑Ukraine dynamics, including Putin‑Trump diplomatic dead‑ends, underground trench warfare, and U.S. diplomatic pressure. |\n",
       "| **Local & Domestic** | • *New York bus crash* – 5 dead, dozens injured after a 52‑passenger tour bus crashed in NY state.  <br>• *India’s stray dogs* – legal battle that led to one million stray dogs in Delhi regaining roaming rights. |\n",
       "| **Special Features** | • *Sports gambling addiction* – investigative report on the growing crisis in the U.S.  <br>• *Ukraine trench video* – footage of Ukrainian troops living underground and defensive tactics. |\n",
       "| **Science & Culture** | • New supernova discovery, rare deep‑sea creatures livestream, and climate‑related stories (e.g., venomous sea slugs shutting down Spanish beaches). |\n",
       "\n",
       "### Supplementary Content\n",
       "* **Video & Audio** – Clips from CNN correspondents on the frontlines of Russia and Ukraine, Trump’s press briefings, and feature stories on science and culture.  \n",
       "* **Interactive Elements** – Live polls, weather updates, and a “CNN10” 10‑minute recap of global headlines.  \n",
       "* **User Engagement** – Feedback forms for ad and video performance, subscription prompts, and personalized article recommendations (ML‑driven “violet” section).\n",
       "\n",
       "### Design Notes\n",
       "* Navigation bars list all U.S., World, Business, Health, Entertainment, and Sports categories.  \n",
       "* The page contains a mix of headline stories, analysis, and multimedia, with “top numbered” cards that populate based on user preferences.\n",
       "\n",
       "Overall, the site functions as a comprehensive news hub, blending hard news, investigative pieces, and multimedia coverage to keep readers informed on U.S. and global events."
      ],
      "text/plain": [
       "<IPython.core.display.Markdown object>"
      ]
     },
     "metadata": {},
     "output_type": "display_data"
    }
   ],
   "source": [
    "display_summary(\"https://cnn.com\")"
   ]
  },
  {
   "cell_type": "code",
   "execution_count": 15,
   "id": "75e9fd40-b354-4341-991e-863ef2e59db7",
   "metadata": {
    "ExecuteTime": {
     "end_time": "2025-08-23T11:57:13.516610Z",
     "start_time": "2025-08-23T11:57:07.601630Z"
    }
   },
   "outputs": [
    {
     "data": {
      "text/markdown": [
       "## Anthropic (Claude.ai) – Home Page Overview\n",
       "\n",
       "**Anthropic’s website is a comprehensive hub for its flagship AI product, Claude, and the broader ecosystem surrounding it.**  \n",
       "\n",
       "- **Core Product**  \n",
       "  - **Claude AI** – A family of large‑language models (Claude Opus 4.1, Sonnet 4, Haiku 3.5).  \n",
       "  - **Claude Code** – Tailored for coding and software development.  \n",
       "  - **API & Build** – Documentation, tutorials, and the console for creating custom applications.  \n",
       "  - **Plans** – Max, Team, and Enterprise tiers with pricing options.\n",
       "\n",
       "- **Recent Announcements & News**  \n",
       "  - **Aug 12 2025** – *Claude Sonnet 4 with 1 M‑token context*.  \n",
       "  - **Aug 5 2025** – *Project Vend* (internal policy/initiative).  \n",
       "  - **Jun 26 2025** – *Agentic Misalignment* policy update.  \n",
       "  - **Jun 20 2025** – *Alignment* research/initiative release.  \n",
       "  - **May 22 2025** – *Introducing Claude 4* (new model launch).  \n",
       "  - **Mar 27 2025** – *Anthropic Economic Index* and *Societal impacts* studies.\n",
       "\n",
       "- **Safety & Governance**  \n",
       "  - Dedicated sections on **AI safety**, **responsible scaling policy**, **transparency**, and a **trust center**.  \n",
       "  - Highlights ISO 42001 certification for quality management.\n",
       "\n",
       "- **Learning & Community**  \n",
       "  - **Anthropic Academy** – Courses on building with Claude.  \n",
       "  - **Research** – Overview, economic index, model details, and interpretability studies.  \n",
       "  - **Customer stories & case studies** – Real‑world applications.\n",
       "\n",
       "- **Business & Support**  \n",
       "  - **Sales & support** contact portals.  \n",
       "  - Careers, events, and startup program listings.\n",
       "\n",
       "- **Technical & Cloud Partnerships**  \n",
       "  - Integration options for Amazon Bedrock, Google Vertex AI, and other cloud platforms.\n",
       "\n",
       "- **Footer & Legal**  \n",
       "  - Standard links to privacy, cookie settings, terms, and status pages.\n",
       "\n",
       "In short, the site positions Anthropic as a safety‑focused AI provider, offering cutting‑edge models, developer tooling, and a transparent governance framework while continuously updating the community with new releases and policy insights."
      ],
      "text/plain": [
       "<IPython.core.display.Markdown object>"
      ]
     },
     "metadata": {},
     "output_type": "display_data"
    }
   ],
   "source": [
    "display_summary(\"https://anthropic.com\")"
   ]
  },
  {
   "cell_type": "markdown",
   "id": "eeab24dc-5f90-4570-b542-b0585aca3eb6",
   "metadata": {},
   "source": [
    "# Sharing your code\n",
    "\n",
    "I'd love it if you share your code afterwards so I can share it with others! You'll notice that some students have already made changes (including a Selenium implementation) which you will find in the community-contributions folder. If you'd like add your changes to that folder, submit a Pull Request with your new versions in that folder and I'll merge your changes.\n",
    "\n",
    "If you're not an expert with git (and I am not!) then GPT has given some nice instructions on how to submit a Pull Request. It's a bit of an involved process, but once you've done it once it's pretty clear. As a pro-tip: it's best if you clear the outputs of your Jupyter notebooks (Edit >> Clean outputs of all cells, and then Save) for clean notebooks.\n",
    "\n",
    "PR instructions courtesy of an AI friend: https://chatgpt.com/share/670145d5-e8a8-8012-8f93-39ee4e248b4c"
   ]
  },
  {
   "cell_type": "code",
   "execution_count": null,
   "id": "682eff74-55c4-4d4b-b267-703edbc293c7",
   "metadata": {},
   "outputs": [],
   "source": []
  }
 ],
 "metadata": {
  "kernelspec": {
   "display_name": "Python 3 (ipykernel)",
   "language": "python",
   "name": "python3"
  },
  "language_info": {
   "codemirror_mode": {
    "name": "ipython",
    "version": 3
   },
   "file_extension": ".py",
   "mimetype": "text/x-python",
   "name": "python",
   "nbconvert_exporter": "python",
   "pygments_lexer": "ipython3",
   "version": "3.11.11"
  }
 },
 "nbformat": 4,
 "nbformat_minor": 5
}
